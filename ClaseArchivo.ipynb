{
  "cells": [
    {
      "metadata": {
        "trusted": true
      },
      "cell_type": "code",
      "source": "from sys import exit #importamos para usar la función exit()\nclass Archivo: #definimos la clse archivo\n    def __init__(self,nombre): #constructor de la clase\n        try: #intenta:\n            self.f=open(nombre,'r') #abre un archivo con un nombre dado\n            self.nombre=nombre\n        except: #si no se pude abrir:\n            print(\"No se puede abrir el archivo\", nombre) #imprime un letrero\n            exit() #y termina la ejecución\n    def muestra(self): #muestra el contenido del archivo linea por linea con numeración\n        i=1\n        for linea in self.f:\n            print(\"{:3}:{}\".format(i,linea))\n            i+=1\n        self.f.seek(0)\n        \n    def cuentaVocales(self): #cuenta el número de vocales en el archivo\n        def vocales(s):\n            contador=0\n            for i in range(len(s)):\n                if s[i] in set(\"aeiouáéíóú\"): #verifica si está en el conjunto de la vocales\n                    contador+=1\n            return contador\n        contador=0\n        for linea in self.f:\n            contador+=vocales(linea)\n        self.f.seek(0)\n        return contador\n    \n    def cuentaConsonantes(self): #cuenta el número de consonantes en el archivo\n        def consonantes(s): \n            contador=0\n            for i in range(len(s)):\n                if s[i].lower()in set(\"bcdfghjklmnñpqrstvwxyz\"): #verifica si está en el conjunto de la consonantes\n                    contador+=1\n            return contador\n        contador=0\n        for linea in self.f:\n            contador+=consonantes(linea)\n        self.f.seek(0)\n        return contador\n    \n    def cuentaEspacios(self): #cuenta el número de espacios en el archivo\n        def espacios(s):  \n            contador=0\n            for i in range(len(s)):\n                if s[i].lower()in set(\" \"):#verifica si es un espacio\n                    contador+=1\n            return contador\n        contador=0\n        for linea in self.f:\n            contador+=espacios(linea)\n        self.f.seek(0)\n        return contador\n    \n    def cuentaSignos(self): #cuenta el número de signos de puntuación en el archivo\n        def signos(s):\n            contador=0\n            for i in range(len(s)):\n                if s[i].lower()in set(\",;.:!¡¿?()*/-_\"\"[]\"):#verifica si está en el conjunto de los signos de puntuación\n                    contador+=1\n            return contador\n        contador=0\n        for linea in self.f:\n            contador+=signos(linea)\n        self.f.seek(0)\n        return contador\n    \n    def cuentaPalabras(self): #cuenta el número de palabras en el archivo\n        def palabras(s):\n            contador=0\n            for i in range(len(s)):\n                if s[i].lower()in set(\" \\n\"):#verifica si es un espacio o un salto de linea\n                    contador+=1\n            return contador\n        contador=0\n        for linea in self.f:\n            contador+=palabras(linea)\n        self.f.seek(0)\n        if len(linea)!=0: #si el archivo tiene por lo menos una linea cuenta un salto de linea extra\n            contador+=1\n        return contador\n    \n    def cuentaLineas(self): #cuenta el número de lineas en el archivo\n        def lineas(s):\n            contador=0\n            for i in range(len(s)):\n                if s[i].lower()in set(\"\\n\"):#verifica si es un salto de linea\n                    contador+=1\n            return contador\n        contador=0\n        for linea in self.f:\n            contador+=lineas(linea)\n        self.f.seek(0)\n        if len(linea)!=0:\n            contador+=1\n        return contador\n    \n    def cuentaMayusculas(self): #cuenta las mayuscúlas en el archivo\n        def mayusculas(s):\n            contador=0\n            for i in range(len(s)):\n                if s[i]!=s[i].lower():#compara la letra con si misma en minuscula, si es diferente entonces es mayuscula\n                    contador+=1\n            return contador\n        contador=0\n        for linea in self.f:\n            contador+=mayusculas(linea)\n        self.f.seek(0)\n        return contador\n    \n    def cuentaMinusculas(self): #cuenta las mayuscúlas en el archivo\n        def minusculas(s):\n            contador=0\n            for i in range(len(s)):\n                if s[i]==s[i].lower():#compara la letra con si misma en minuscula, si es igual entonces es minuscula\n                    contador+=1\n            return contador\n        contador=0\n        for linea in self.f:\n            contador+=minusculas(linea)\n        self.f.seek(0)\n        return contador\n\n#main\nnomb=input(\"Nombre del archivo\") #pide el nombre del archivo al usuario\narchivo=Archivo(nomb) #asigna el nombre \narchivo.muestra()\nprint(\"\\n vocales:{}\".format (archivo.cuentaVocales()))\nprint(\"\\n consonantes:{}\".format (archivo.cuentaConsonantes()))\nprint(\"\\n espacios:{}\".format (archivo.cuentaEspacios()))\nprint(\"\\n signos de puntuación:{}\".format (archivo.cuentaSignos()))\nprint(\"\\n palabras:{}\".format (archivo.cuentaPalabras()))\nprint(\"\\n lineas:{}\".format (archivo.cuentaLineas()))\nprint(\"\\n mayusculas:{}\".format (archivo.cuentaMayusculas()))\nprint(\"\\n minusculas:{}\".format (archivo.cuentaMinusculas()))\n            ",
      "execution_count": 39,
      "outputs": [
        {
          "output_type": "stream",
          "name": "stdout",
          "text": "Nombre del archivoarchivo.txt\n  1:Vocales Consonantes\n\n  2:Hola Mundo Hola\n\n  3:Mayusculas\n\n  4:Minusculas\n\n vocales:21\n\n consonantes:30\n\n espacios:3\n\n signos de puntuación:0\n\n palabras:7\n\n lineas:4\n\n mayusculas:7\n\n minusculas:50\n"
        }
      ]
    },
    {
      "metadata": {
        "trusted": true
      },
      "cell_type": "code",
      "source": "",
      "execution_count": null,
      "outputs": []
    },
    {
      "metadata": {
        "trusted": true
      },
      "cell_type": "code",
      "source": "",
      "execution_count": null,
      "outputs": []
    }
  ],
  "metadata": {
    "kernelspec": {
      "name": "python36",
      "display_name": "Python 3.6",
      "language": "python"
    },
    "language_info": {
      "mimetype": "text/x-python",
      "nbconvert_exporter": "python",
      "name": "python",
      "pygments_lexer": "ipython3",
      "version": "3.6.6",
      "file_extension": ".py",
      "codemirror_mode": {
        "version": 3,
        "name": "ipython"
      }
    }
  },
  "nbformat": 4,
  "nbformat_minor": 2
}